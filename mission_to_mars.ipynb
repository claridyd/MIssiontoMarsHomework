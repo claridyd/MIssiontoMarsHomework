{
 "cells": [
  {
   "cell_type": "code",
   "execution_count": 3,
   "metadata": {},
   "outputs": [],
   "source": [
    "# import libraries needed \n",
    "import urllib.request\n",
    "import requests\n",
    "from bs4 import BeautifulSoup as bs"
   ]
  },
  {
   "cell_type": "code",
   "execution_count": 4,
   "metadata": {},
   "outputs": [],
   "source": [
    "# specify NASA Mars New Site url to scrape\n",
    "url = \"https://mars.nasa.gov/news/8503/robotic-toolkit-added-to-nasas-mars-2020-rover\""
   ]
  },
  {
   "cell_type": "code",
   "execution_count": 5,
   "metadata": {},
   "outputs": [],
   "source": [
    "# open the URL using urllib.request and put the HTML into the page variable\n",
    "page = urllib.request.urlopen(url)"
   ]
  },
  {
   "cell_type": "code",
   "execution_count": 6,
   "metadata": {},
   "outputs": [],
   "source": [
    "# parse the HTML from our url into the BeautifulSoup parse tree format\n",
    "soup = bs(page, 'lxml')"
   ]
  },
  {
   "cell_type": "code",
   "execution_count": 7,
   "metadata": {},
   "outputs": [],
   "source": [
    "# print(soup.prettify())"
   ]
  },
  {
   "cell_type": "code",
   "execution_count": 10,
   "metadata": {},
   "outputs": [
    {
     "data": {
      "text/plain": [
       "\"Robotic Toolkit Added to NASA's Mars 2020 Rover\""
      ]
     },
     "execution_count": 10,
     "metadata": {},
     "output_type": "execute_result"
    }
   ],
   "source": [
    "# Collect the news title and assign to variable\n",
    "news_title = soup.find(class_='article_title').text.strip()\n",
    "news_title"
   ]
  },
  {
   "cell_type": "code",
   "execution_count": 16,
   "metadata": {},
   "outputs": [
    {
     "name": "stdout",
     "output_type": "stream",
     "text": [
      "Cache and Carry: In this August 5, 2019 image, the bit carousel - the heart of sampling and caching subsystem of NASA’s Mars 2020 mission -  is attached to the front end of the rover. Image Credit: NASA/JPL-Caltech. Full image and caption ›\n",
      "The bit carousel — a mechanism that will play a key role in the acquisition, containment and eventual return to Earth of humanity's first samples from another planet — has been incorporated into NASA's Mars 2020 rover.\n",
      "\"The bit carousel is at the heart of the sampling and caching subsystem,\" said Keith Rosette, Mars 2020 sample handling delivery manager at NASA's Jet Propulsion Laboratory in Pasadena, California. \"It contains all of the tools the coring drill uses to sample the Martian surface and is the gateway for the samples to move into the rover for assessment and processing.\"\n",
      "Looking somewhat like an extraterrestrial version of a 1960s slide projector, Mars 2020's bit carousel is home to nine drill bits that facilitate sample acquisition and surface analysis: two for abrading, one for regolith (rock and soil) and six for coring. The coring and regolith bits are used to place Martian samples in a clean sample collection tube, while the abrader bit is used to scrape the top layers of rocks to expose un-weathered surfaces for study.\n",
      "When the rover team is ready to drill, the carousel whirrs into action. If, for instance, the goal is to abrade, the carousel maneuvers the appropriate bit into position so that the drill at the end of the rover's robotic arm can extract it. Once the drilling's done, the bit goes back into the carousel.\n",
      "For core sampling, a sample tube is inserted inside the appropriate bit before the carousel moves the combination into position for the drill. Once the sample tube has been filled, the robotic arm returns the drill bit and tube to the carousel, where they wend their way to processing stations and storage.\n",
      "\"The bit carousel was the last piece of the Mars 2020 rover's Sample Caching System to be installed,\" said JPL's John McNamee, project manager of Mars 2020. \"And while the rover interior is essentially complete — a battery and a camera used during landing are planned in coming weeks — the assembly and test team will not be resting on their laurels. Months of evaluation and fine tuning lie ahead to make absolutely certain this rover is on the launch pad and ready to go on July 17, 2020.\"  \n",
      "Mars 2020 will land on Jezero Crater on Feb. 18, 2021.\n",
      "JPL is building and will manage operations of the Mars 2020 rover for the NASA Science Mission Directorate at the agency's headquarters in Washington. NASA will use Mars 2020 and other missions, including to the Moon, to prepare for human exploration of the Red Planet. The agency intends to establish a sustained human presence on and around the Moon by 2028 through NASA's Artemis lunar exploration plans.\n",
      "To submit your name to travel to Mars with NASA's 2020 mission and obtain a souvenir boarding pass to the Red Planet, go here by Sept. 30, 2019:\n",
      "https://go.nasa.gov/Mars2020Pass\n",
      "For more information about the mission, go to:\n",
      "https://mars.nasa.gov/mars2020/\n",
      "News Media Contact\n",
      "DC Agle \n",
      "Jet Propulsion Laboratory, Pasadena, Calif.\n",
      "818-393-9011\n",
      "agle@jpl.nasa.gov\n",
      "Managed by the Mars Exploration Program and the Jet Propulsion Laboratory for NASA’s Science Mission Directorate\n"
     ]
    }
   ],
   "source": [
    "# Get all paragraph texts\n",
    "paragraphs = soup.body.find_all('p')\n",
    "for paragraph in paragraphs:\n",
    "    print(paragraph.text)"
   ]
  },
  {
   "cell_type": "code",
   "execution_count": 17,
   "metadata": {},
   "outputs": [],
   "source": [
    "# import splinter\n",
    "from splinter import Browser"
   ]
  },
  {
   "cell_type": "code",
   "execution_count": 20,
   "metadata": {},
   "outputs": [],
   "source": [
    "executable_path = {'executable_path': 'c:\\DataVisual\\chromedriver.exe'}\n",
    "browser = Browser('chrome', **executable_path, headless=False)"
   ]
  },
  {
   "cell_type": "code",
   "execution_count": 21,
   "metadata": {},
   "outputs": [],
   "source": [
    "# Get url for JPL Mars Space image\n",
    "featured_image_url = 'https://www.jpl.nasa.gov/spaceimages/images/largesize/PIA19952_hires.jpg'\n",
    "browser.visit(featured_image_url)"
   ]
  },
  {
   "cell_type": "code",
   "execution_count": 22,
   "metadata": {},
   "outputs": [],
   "source": [
    "#Twitter url to scrape\n",
    "twit_url = 'https://twitter.com/marswxreport?lang=en'\n",
    "# open the URL using urllib.request and put the HTML into the page variable\n",
    "twit_page = urllib.request.urlopen(twit_url)"
   ]
  },
  {
   "cell_type": "code",
   "execution_count": 23,
   "metadata": {},
   "outputs": [],
   "source": [
    "# parse the HTML from our url into the BeautifulSoup parse tree format\n",
    "twit_soup = bs(twit_page, 'lxml')"
   ]
  },
  {
   "cell_type": "code",
   "execution_count": 25,
   "metadata": {},
   "outputs": [],
   "source": [
    "# print(twit_soup.prettify())"
   ]
  },
  {
   "cell_type": "code",
   "execution_count": 46,
   "metadata": {},
   "outputs": [
    {
     "data": {
      "text/plain": [
       "'InSight sol 261 (2019-08-21) low -102.4ºC (-152.4ºF) high -26.6ºC (-15.8ºF)\\nwinds from the SSE at 4.9 m/s (11.0 mph) gusting to 16.0 m/s (35.8 mph)\\npressure at 7.70 hPapic.twitter.com/MhPPOHJg3m'"
      ]
     },
     "execution_count": 46,
     "metadata": {},
     "output_type": "execute_result"
    }
   ],
   "source": [
    "# twit_soup.find_all('p')\n",
    "# Get latest Mars weather from Twitter\n",
    "mars_weather = twit_soup.find('p', attrs={'class': 'TweetTextSize TweetTextSize--normal js-tweet-text tweet-text'}).text.strip()\n",
    "mars_weather"
   ]
  },
  {
   "cell_type": "code",
   "execution_count": null,
   "metadata": {},
   "outputs": [],
   "source": []
  }
 ],
 "metadata": {
  "kernelspec": {
   "display_name": "Python 3",
   "language": "python",
   "name": "python3"
  },
  "language_info": {
   "codemirror_mode": {
    "name": "ipython",
    "version": 3
   },
   "file_extension": ".py",
   "mimetype": "text/x-python",
   "name": "python",
   "nbconvert_exporter": "python",
   "pygments_lexer": "ipython3",
   "version": "3.6.8"
  }
 },
 "nbformat": 4,
 "nbformat_minor": 2
}
